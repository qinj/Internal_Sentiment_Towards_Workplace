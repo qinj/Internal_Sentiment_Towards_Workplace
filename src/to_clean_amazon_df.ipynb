{
 "cells": [
  {
   "cell_type": "code",
   "execution_count": 4,
   "metadata": {},
   "outputs": [],
   "source": [
    "import pandas as pd\n",
    "import numpy as np\n",
    "import matplotlib.pyplot as plt"
   ]
  },
  {
   "cell_type": "code",
   "execution_count": 7,
   "metadata": {},
   "outputs": [],
   "source": [
    "def to_clean_amazon_reviews(glassdoor_filepath, amazon_earnings_filepath):\n",
    "    glassdoor_df = pd.read_csv(glassdoor_filepath)\n",
    "    q_earnings_df = pd.read_csv(amazon_earnings_filepath)\n",
    "    amazon_reviews_df = glassdoor_df[glassdoor_df['company'] == 'amazon']\n",
    "    earnings_list = []\n",
    "    for _, row in amazon_reviews_df.iterrows():\n",
    "        net_income = q_earnings_df['Quarterly Net Income (Billions)'].loc[(q_earnings_df['Quarter'] == row['quarter']) & (q_earnings_df['Year'] == row['year'])]\n",
    "        if len(net_income.values) > 0:\n",
    "            earnings_list.append(net_income.values[0])\n",
    "        else:\n",
    "            earnings_list.append(None)\n",
    "    amazon_reviews_df['amazon_earnings_this_quarter'] = earnings_list\n",
    "    overall_mean = np.nanmean(amazon_reviews_df['overall-ratings'])\n",
    "    work_balance_mean = np.nanmean(amazon_reviews_df['work-balance-stars'])\n",
    "    culture_mean = np.nanmean(amazon_reviews_df['culture-values-stars'])\n",
    "    career_mean = np.nanmean(amazon_reviews_df['career-opportunities-stars'])\n",
    "    benefit_mean = np.nanmean(amazon_reviews_df['comp-benefit-stars'])\n",
    "    senior_mean = np.nanmean(amazon_reviews_df['senior-management-stars'])\n",
    "\n",
    "    for i, row in amazon_reviews_df.iterrows():\n",
    "        if row['overall-ratings'] != row['overall-ratings']:\n",
    "            amazon_reviews_df.loc[i, 'overall-ratings'] = overall_mean\n",
    "\n",
    "        if row['work-balance-stars'] != row['work-balance-stars']:\n",
    "            amazon_reviews_df.loc[i, 'work-balance-stars'] = work_balance_mean\n",
    "\n",
    "        if row['culture-values-stars'] != row['culture-values-stars']:\n",
    "            amazon_reviews_df.loc[i, 'culture-values-stars'] = culture_mean\n",
    "\n",
    "        if row['career-opportunities-stars'] != row['career-opportunities-stars']:\n",
    "            amazon_reviews_df.loc[i, 'career-opportunities-stars'] = career_mean\n",
    "\n",
    "        if row['comp-benefit-stars'] != row['comp-benefit-stars']:\n",
    "            amazon_reviews_df.loc[i, 'comp-benefit-stars'] = benefit_mean\n",
    "\n",
    "        if row['senior-management-stars'] != row['senior-management-stars']:\n",
    "            amazon_reviews_df.loc[i, 'senior-management-stars'] = senior_mean\n",
    "    amazon_reviews_df.to_csv('../data/clean_amazon_reviews.csv')\n"
   ]
  },
  {
   "cell_type": "code",
   "execution_count": 8,
   "metadata": {},
   "outputs": [
    {
     "name": "stderr",
     "output_type": "stream",
     "text": [
      "C:\\Users\\jq\\Anaconda3\\lib\\site-packages\\ipykernel_launcher.py:12: SettingWithCopyWarning: \n",
      "A value is trying to be set on a copy of a slice from a DataFrame.\n",
      "Try using .loc[row_indexer,col_indexer] = value instead\n",
      "\n",
      "See the caveats in the documentation: http://pandas.pydata.org/pandas-docs/stable/indexing.html#indexing-view-versus-copy\n",
      "  if sys.path[0] == '':\n",
      "C:\\Users\\jq\\Anaconda3\\lib\\site-packages\\pandas\\core\\indexing.py:543: SettingWithCopyWarning: \n",
      "A value is trying to be set on a copy of a slice from a DataFrame.\n",
      "Try using .loc[row_indexer,col_indexer] = value instead\n",
      "\n",
      "See the caveats in the documentation: http://pandas.pydata.org/pandas-docs/stable/indexing.html#indexing-view-versus-copy\n",
      "  self.obj[item] = s\n"
     ]
    }
   ],
   "source": [
    "to_clean_amazon_reviews('../data/clean_glassdoor_df.csv', '../data/amazon_quarterly_earnings.csv')"
   ]
  }
 ],
 "metadata": {
  "kernelspec": {
   "display_name": "Python 3",
   "language": "python",
   "name": "python3"
  },
  "language_info": {
   "codemirror_mode": {
    "name": "ipython",
    "version": 3
   },
   "file_extension": ".py",
   "mimetype": "text/x-python",
   "name": "python",
   "nbconvert_exporter": "python",
   "pygments_lexer": "ipython3",
   "version": "3.6.5"
  }
 },
 "nbformat": 4,
 "nbformat_minor": 2
}
