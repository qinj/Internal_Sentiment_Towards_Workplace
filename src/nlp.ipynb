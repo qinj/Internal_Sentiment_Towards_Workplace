{
 "cells": [
  {
   "cell_type": "code",
   "execution_count": 30,
   "metadata": {},
   "outputs": [],
   "source": [
    "import numpy as np\n",
    "import pandas as pd\n",
    "import matplotlib.pyplot as plt\n",
    "\n",
    "import string\n",
    "import unicodedata\n",
    "\n",
    "from scipy import sparse\n",
    "from nltk.tokenize import sent_tokenize\n",
    "from nltk.tokenize import word_tokenize\n",
    "from nltk.corpus import stopwords\n",
    "from nltk.stem.porter import PorterStemmer\n",
    "from nltk.stem.snowball import SnowballStemmer\n",
    "from nltk.util import ngrams\n",
    "from nltk import pos_tag\n",
    "from nltk import RegexpParser\n",
    "from sklearn.model_selection import cross_val_score, train_test_split, GridSearchCV\n",
    "from sklearn.ensemble import RandomForestRegressor, GradientBoostingRegressor\n",
    "from sklearn.metrics import mean_squared_error\n",
    "\n",
    "from sklearn.feature_extraction.text import CountVectorizer\n",
    "from sklearn.feature_extraction.text import HashingVectorizer\n",
    "\n",
    "from nlp import filter_tokens, validate_string, extract_bow_from_column, create_Xy_csv\n",
    "import pickle\n",
    "\n"
   ]
  },
  {
   "cell_type": "code",
   "execution_count": 31,
   "metadata": {},
   "outputs": [],
   "source": [
    "create_Xy_csv(\"../data/clean_amazon_reviews.csv\")"
   ]
  },
  {
   "cell_type": "code",
   "execution_count": 32,
   "metadata": {},
   "outputs": [],
   "source": [
    "\n",
    "nlp_df = pd.read_csv('../data/df_with_nlp.csv', index_col=0)\n",
    "X = nlp_df\n",
    "y = pd.read_csv('../data/work-balance-stars.csv', index_col=0).values"
   ]
  },
  {
   "cell_type": "code",
   "execution_count": 13,
   "metadata": {},
   "outputs": [],
   "source": [
    "amazon_df = pd.read_csv('../data/clean_amazon_reviews.csv')"
   ]
  },
  {
   "cell_type": "code",
   "execution_count": 14,
   "metadata": {},
   "outputs": [],
   "source": [
    "nlp_df = pd.read_csv('../data/df_with_nlp.csv', index_col=0)"
   ]
  },
  {
   "cell_type": "code",
   "execution_count": 15,
   "metadata": {},
   "outputs": [],
   "source": [
    "X = nlp_df\n",
    "y = amazon_df['work-balance-stars'].values"
   ]
  },
  {
   "cell_type": "code",
   "execution_count": 16,
   "metadata": {},
   "outputs": [],
   "source": [
    "X_train, X_test, y_train, y_test = train_test_split(X, y, test_size=0.20, random_state=0)"
   ]
  },
  {
   "cell_type": "code",
   "execution_count": 24,
   "metadata": {},
   "outputs": [
    {
     "name": "stdout",
     "output_type": "stream",
     "text": [
      "      Iter       Train Loss      OOB Improve   Remaining Time \n",
      "         1           1.6172           0.0013           38.27m\n",
      "         2           1.6003           0.0013           36.18m\n",
      "         3           1.6002           0.0014           35.78m\n",
      "         4           1.6219           0.0013           35.57m\n",
      "         5           1.5873           0.0013           35.23m\n",
      "         6           1.6100           0.0013           35.24m\n",
      "         7           1.6027           0.0014           35.43m\n",
      "         8           1.5894           0.0014           35.28m\n",
      "         9           1.6108           0.0013           35.20m\n",
      "        10           1.6123           0.0013           35.14m\n",
      "        20           1.5888           0.0013           37.17m\n",
      "        30           1.5708           0.0013           44.96m\n",
      "        40           1.5669           0.0013           43.73m\n",
      "        50           1.5341           0.0012           41.90m\n",
      "        60           1.5316           0.0012           41.24m\n",
      "        70           1.5276           0.0012           41.14m\n",
      "        80           1.5122           0.0012           40.59m\n",
      "        90           1.4902           0.0012           39.89m\n",
      "       100           1.4935           0.0011           39.40m\n",
      "       200           1.3768           0.0009           39.08m\n",
      "       300           1.3062           0.0008           36.71m\n",
      "       400           1.2414           0.0006           33.93m\n",
      "       500           1.1647           0.0005           31.60m\n",
      "       600           1.1085           0.0004           29.20m\n",
      "       700           1.0867           0.0004           26.92m\n",
      "       800           1.0504           0.0003           24.73m\n",
      "       900           1.0256           0.0003           22.46m\n",
      "      1000           0.9952           0.0002           20.28m\n",
      "      2000           0.8739           0.0000            0.00s\n"
     ]
    },
    {
     "data": {
      "text/plain": [
       "GradientBoostingRegressor(alpha=0.9, criterion='friedman_mse', init=None,\n",
       "             learning_rate=0.001, loss='ls', max_depth=3,\n",
       "             max_features=None, max_leaf_nodes=None,\n",
       "             min_impurity_decrease=0.0, min_impurity_split=None,\n",
       "             min_samples_leaf=5, min_samples_split=2,\n",
       "             min_weight_fraction_leaf=0.0, n_estimators=2000,\n",
       "             presort='auto', random_state=None, subsample=0.5, verbose=1,\n",
       "             warm_start=False)"
      ]
     },
     "execution_count": 24,
     "metadata": {},
     "output_type": "execute_result"
    }
   ],
   "source": [
    "gbr = GradientBoostingRegressor(learning_rate=0.001,\n",
    "                                   n_estimators=2000,\n",
    "                                   min_samples_leaf=5,\n",
    "                                   max_depth=3,\n",
    "                                   subsample=0.5,\n",
    "                               verbose=1)\n",
    "gbr.fit(X_train, y_train)\n"
   ]
  },
  {
   "cell_type": "code",
   "execution_count": 26,
   "metadata": {},
   "outputs": [],
   "source": [
    "with open('gradient_boosting_regressor.pkl', 'wb') as f:\n",
    "    # Write the model to a file.\n",
    "    pickle.dump(gbr, f)"
   ]
  },
  {
   "cell_type": "code",
   "execution_count": 22,
   "metadata": {},
   "outputs": [],
   "source": [
    "y_pred = gbr.predict(X_test)"
   ]
  },
  {
   "cell_type": "code",
   "execution_count": 23,
   "metadata": {},
   "outputs": [
    {
     "name": "stdout",
     "output_type": "stream",
     "text": [
      "0.9889643083112633\n"
     ]
    }
   ],
   "source": [
    "mse = mean_squared_error(y_test, y_pred)\n",
    "rmse = mse ** 0.5\n",
    "print(rmse)"
   ]
  },
  {
   "cell_type": "code",
   "execution_count": null,
   "metadata": {},
   "outputs": [],
   "source": [
    "# with open('model.pkl', 'rb') as f:\n",
    "#     model = pickle.load(f)"
   ]
  }
 ],
 "metadata": {
  "kernelspec": {
   "display_name": "Python 3",
   "language": "python",
   "name": "python3"
  },
  "language_info": {
   "codemirror_mode": {
    "name": "ipython",
    "version": 3
   },
   "file_extension": ".py",
   "mimetype": "text/x-python",
   "name": "python",
   "nbconvert_exporter": "python",
   "pygments_lexer": "ipython3",
   "version": "3.6.5"
  }
 },
 "nbformat": 4,
 "nbformat_minor": 2
}
