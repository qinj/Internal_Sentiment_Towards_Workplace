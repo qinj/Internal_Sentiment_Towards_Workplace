{
 "cells": [
  {
   "cell_type": "code",
   "execution_count": 12,
   "metadata": {},
   "outputs": [],
   "source": [
    "import pandas as pd\n",
    "import numpy as np\n",
    "import matplotlib.pyplot as plt\n",
    "\n",
    "from sklearn.linear_model import LinearRegression\n",
    "from sklearn.model_selection import cross_val_score, train_test_split, GridSearchCV\n",
    "\n",
    "from pandas.plotting import scatter_matrix\n",
    "from regression_tools.plotting_tools import plot_univariate_smooth\n"
   ]
  },
  {
   "cell_type": "code",
   "execution_count": 3,
   "metadata": {},
   "outputs": [],
   "source": [
    "amazon_df = pd.read_csv('../data/clean_amazon_reviews.csv')"
   ]
  },
  {
   "cell_type": "code",
   "execution_count": 9,
   "metadata": {},
   "outputs": [],
   "source": [
    "# Not going to use dates, job-title, role, overall-ratings, location, month\n",
    "# for now\n",
    "\n",
    "X = amazon_df[['culture-values-stars', 'career-opportunities-stars', \n",
    "                       'comp-benefit-stars', 'senior-management-stars', 'helpful-count',\n",
    "                       'is_current_employee', 'year', 'quarter', 'amazon_earnings_this_quarter']]\n",
    "y = amazon_df['work-balance-stars']"
   ]
  },
  {
   "cell_type": "code",
   "execution_count": 13,
   "metadata": {},
   "outputs": [],
   "source": [
    "X_train, X_test, y_train, y_test = train_test_split(X, y, test_size=.33, random_state=0)"
   ]
  },
  {
   "cell_type": "code",
   "execution_count": null,
   "metadata": {},
   "outputs": [],
   "source": [
    "y_pred = "
   ]
  },
  {
   "cell_type": "code",
   "execution_count": null,
   "metadata": {},
   "outputs": [],
   "source": [
    "print(f\"log loss1 = {log_loss(y_test, rf_1.predict_proba(X_test)[:, 1])}\")\n",
    "print(f\"accuracy1 = {rf_1.score(X_test, y_test)}\")"
   ]
  },
  {
   "cell_type": "code",
   "execution_count": 14,
   "metadata": {},
   "outputs": [
    {
     "data": {
      "text/plain": [
       "LinearRegression(copy_X=True, fit_intercept=True, n_jobs=1, normalize=False)"
      ]
     },
     "execution_count": 14,
     "metadata": {},
     "output_type": "execute_result"
    }
   ],
   "source": [
    "model = LinearRegression()\n",
    "model.fit(X_train, y_train)"
   ]
  },
  {
   "cell_type": "markdown",
   "metadata": {},
   "source": [
    "### Later"
   ]
  },
  {
   "cell_type": "code",
   "execution_count": null,
   "metadata": {},
   "outputs": [],
   "source": [
    "_ = scatter_matrix(amazon_df, alpha=0.2, figsize=(10, 10), diagonal='kde')"
   ]
  },
  {
   "cell_type": "code",
   "execution_count": null,
   "metadata": {},
   "outputs": [],
   "source": [
    "\n",
    "\n",
    "fig, ax = plt.subplots(figsize=(14, 3))\n",
    "\n",
    "plot_univariate_smooth(\n",
    "    ax, \n",
    "    non_zero_bal_df[\"limit\"].values.reshape(-1, 1),\n",
    "    non_zero_bal_df['balance'],\n",
    "    bootstrap=100)\n",
    "\n",
    "ax.set_title(\"Univariate Effect of Credit Limit on Non-zero Bank Balance\")\n",
    "ax.set_ylabel(\"Non-zero Balance\")\n",
    "ax.set_xlabel(\"Limit\")"
   ]
  },
  {
   "cell_type": "code",
   "execution_count": null,
   "metadata": {},
   "outputs": [],
   "source": [
    "limit_fit = Pipeline([\n",
    "    ('limit', ColumnSelector(name='limit')),\n",
    "    ('limit_spline', LinearSpline(knots=[2500, 6000, 7000]))\n",
    "])"
   ]
  }
 ],
 "metadata": {
  "kernelspec": {
   "display_name": "Python 3",
   "language": "python",
   "name": "python3"
  }
 },
 "nbformat": 4,
 "nbformat_minor": 2
}
