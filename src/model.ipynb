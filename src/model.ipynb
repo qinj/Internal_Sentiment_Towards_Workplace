{
 "cells": [
  {
   "cell_type": "code",
   "execution_count": null,
   "metadata": {},
   "outputs": [],
   "source": [
    "import pandas as pd\n",
    "import numpy as np\n",
    "import matplotlib.pyplot as plt\n",
    "\n",
    "from regression_tools.plotting_tools import plot_univariate_smooth\n"
   ]
  },
  {
   "cell_type": "code",
   "execution_count": null,
   "metadata": {},
   "outputs": [],
   "source": [
    "amazon_df = pd.read_csv('../data/clean_amazon_reviews.csv')"
   ]
  },
  {
   "cell_type": "code",
   "execution_count": null,
   "metadata": {},
   "outputs": [],
   "source": [
    "# Not going to use dates, job-title, role, overall-ratings, location \n",
    "# for now\n",
    "\n",
    "X = amazon_reviews_df[['culture-values-stars', 'career-opportunities-stars', \n",
    "                       'comp-benefit-stars', 'senior-management-stars', 'helpful-count',\n",
    "                       'is_current_employee', 'year', 'month', 'quarter', 'amazon_earnings_this_quarter']]\n",
    "y = amazon_reviews_df['work-balance-stars']"
   ]
  },
  {
   "cell_type": "code",
   "execution_count": null,
   "metadata": {},
   "outputs": [],
   "source": [
    "_ = scatter_matrix(amaz_reviews_df, alpha=0.2, figsize=(10, 10), diagonal='kde')"
   ]
  },
  {
   "cell_type": "code",
   "execution_count": null,
   "metadata": {},
   "outputs": [],
   "source": [
    "\n",
    "\n",
    "fig, ax = plt.subplots(figsize=(14, 3))\n",
    "\n",
    "plot_univariate_smooth(\n",
    "    ax, \n",
    "    non_zero_bal_df[\"limit\"].values.reshape(-1, 1),\n",
    "    non_zero_bal_df['balance'],\n",
    "    bootstrap=100)\n",
    "\n",
    "ax.set_title(\"Univariate Effect of Credit Limit on Non-zero Bank Balance\")\n",
    "ax.set_ylabel(\"Non-zero Balance\")\n",
    "ax.set_xlabel(\"Limit\")"
   ]
  },
  {
   "cell_type": "code",
   "execution_count": null,
   "metadata": {},
   "outputs": [],
   "source": [
    "limit_fit = Pipeline([\n",
    "    ('limit', ColumnSelector(name='limit')),\n",
    "    ('limit_spline', LinearSpline(knots=[2500, 6000, 7000]))\n",
    "])"
   ]
  }
 ],
 "metadata": {
  "kernelspec": {
   "display_name": "Python 3",
   "language": "python",
   "name": "python3"
  },
  "language_info": {
   "codemirror_mode": {
    "name": "ipython",
    "version": 3
   },
   "file_extension": ".py",
   "mimetype": "text/x-python",
   "name": "python",
   "nbconvert_exporter": "python",
   "pygments_lexer": "ipython3",
   "version": "3.6.5"
  }
 },
 "nbformat": 4,
 "nbformat_minor": 2
}
